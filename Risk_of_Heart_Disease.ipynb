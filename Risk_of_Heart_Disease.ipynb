{
  "nbformat": 4,
  "nbformat_minor": 0,
  "metadata": {
    "colab": {
      "provenance": [],
      "collapsed_sections": [
        "p3XRHNsR32-z",
        "OBlzEnwvl_vR",
        "g8a2oyzLmbqR"
      ]
    },
    "kernelspec": {
      "name": "python3",
      "display_name": "Python 3"
    },
    "language_info": {
      "name": "python"
    }
  },
  "cells": [
    {
      "cell_type": "markdown",
      "source": [
        "# Data information"
      ],
      "metadata": {
        "id": "5ppDX0Pokdd5"
      }
    },
    {
      "cell_type": "code",
      "execution_count": 1,
      "metadata": {
        "id": "mXmDnaLmkLaS"
      },
      "outputs": [],
      "source": [
        "#referencias\n",
        "# Dataset: https://www.kaggle.com/datasets/mexwell/heart-disease-dataset/data"
      ]
    },
    {
      "cell_type": "markdown",
      "source": [
        "## Heart Disease Dataset Attribute Description"
      ],
      "metadata": {
        "id": "oYruD2avndXX"
      }
    },
    {
      "cell_type": "markdown",
      "source": [
        "\n",
        "\n",
        "| S.No. | Attribute                | Code given | Unit          | Data type |\n",
        "|-------|--------------------------|------------|---------------|-----------|\n",
        "| 1     | age                      | Age | in years | Numeric      |\n",
        "| 2     | sex                      | Sex        | 1, 0          | Binary    |\n",
        "| 3     | chest pain type          | chest pain type | 1, 2, 3, 4 | Nominal   |\n",
        "| 4     | resting blood pressure  | resting bp | mm Hg         | Numeric   |\n",
        "| 5     | serum cholesterol       | cholesterol | mg/dl         | Numeric   |\n",
        "| 6     | fasting blood sugar     | fasting blood sugar | 1, 0 > 120 mg/dl | Binary |\n",
        "| 7     | resting electrocardiogram results | resting ecg | 0, 1, 2 | Nominal |\n",
        "| 8     | maximum heart rate achieved | max heart rate | 71–202 | Numeric |\n",
        "| 9     | exercise induced angina | exercise angina | 0, 1 | Binary |\n",
        "| 10    | oldpeak = ST depression | oldpeak | depression | Numeric |\n",
        "| 11    | the slope of the peak exercise ST segment | ST slope | 0, 1, 2 | Nominal |\n",
        "| 12    | class                    | target     | 0, 1          | Binary    |\n",
        "\n",
        "**Description of Nominal Attributes**\n",
        "\n",
        "- **Sex:** 1 = male, 0 = female;\n",
        "- **Chest Pain Type:**\n",
        "  - Value 1: typical angina\n",
        "  - Value 2: atypical angina\n",
        "  - Value 3: non-anginal pain\n",
        "  - Value 4: asymptomatic\n",
        "- **Fasting Blood Sugar (fasting blood sugar > 120 mg/dl):** (1 = true; 0 = false)\n",
        "- **Resting Electrocardiogram Results:**\n",
        "  - Value 0: normal\n",
        "  - Value 1: having ST-T wave abnormality (T wave inversions and/or ST elevation or depression of > 0.05 mV)\n",
        "  - Value 2: showing probable or definite left ventricular hypertrophy by Estes' criteria\n",
        "- **Exercise Induced Angina:** 1 = yes; 0 = no\n",
        "- **The Slope of the Peak Exercise ST Segment:**\n",
        "  - Value 1: upsloping\n",
        "  - Value 2: flat\n",
        "  - Value 3: downsloping\n",
        "- **Class:** 1 = heart disease, 0 = Normal\n"
      ],
      "metadata": {
        "id": "8t0oEWmhmsCx"
      }
    },
    {
      "cell_type": "markdown",
      "source": [
        "# importing and loading"
      ],
      "metadata": {
        "id": "_qoTNfpOnXf8"
      }
    },
    {
      "cell_type": "code",
      "source": [
        "import pandas as pd\n",
        "from sklearn.model_selection import train_test_split\n",
        "from sklearn.metrics import accuracy_score\n",
        "from tqdm import tqdm"
      ],
      "metadata": {
        "id": "BDxwcthnkTo9"
      },
      "execution_count": 2,
      "outputs": []
    },
    {
      "cell_type": "code",
      "source": [
        "df = pd.read_csv('/content/heart_statlog_cleveland_hungary_final.csv')"
      ],
      "metadata": {
        "id": "geLPU4O5kqwo"
      },
      "execution_count": 31,
      "outputs": []
    },
    {
      "cell_type": "code",
      "source": [
        "(df.head(2)"
      ],
      "metadata": {
        "id": "Z0zIiqIRk-06"
      },
      "execution_count": null,
      "outputs": []
    },
    {
      "cell_type": "code",
      "source": [
        "df.describe()"
      ],
      "metadata": {
        "id": "pUlQb8zdv36a"
      },
      "execution_count": null,
      "outputs": []
    },
    {
      "cell_type": "markdown",
      "source": [
        "### Data cleaning"
      ],
      "metadata": {
        "id": "p3XRHNsR32-z"
      }
    },
    {
      "cell_type": "code",
      "source": [
        "#verificando se tem dados nulos\n",
        "df.isnull().sum()"
      ],
      "metadata": {
        "colab": {
          "base_uri": "https://localhost:8080/"
        },
        "id": "6LB0kAbUwR6s",
        "outputId": "7579cfd3-bb1b-44eb-a23c-d1ab4a8033e1"
      },
      "execution_count": 6,
      "outputs": [
        {
          "output_type": "execute_result",
          "data": {
            "text/plain": [
              "age                    0\n",
              "sex                    0\n",
              "chest pain type        0\n",
              "resting bp s           0\n",
              "cholesterol            0\n",
              "fasting blood sugar    0\n",
              "resting ecg            0\n",
              "max heart rate         0\n",
              "exercise angina        0\n",
              "oldpeak                0\n",
              "ST slope               0\n",
              "target                 0\n",
              "dtype: int64"
            ]
          },
          "metadata": {},
          "execution_count": 6
        }
      ]
    },
    {
      "cell_type": "code",
      "source": [
        "# Normalização Min-Max\n",
        "df_normalizado = (df - df.min()) / (df.max() - df.min())"
      ],
      "metadata": {
        "id": "JgrgWipKw1ob"
      },
      "execution_count": 7,
      "outputs": []
    },
    {
      "cell_type": "code",
      "source": [
        "# Calcule o primeiro e terceiro quartis\n",
        "Q1 = df_normalizado.quantile(0.25)\n",
        "Q3 = df_normalizado.quantile(0.75)\n",
        "\n",
        "# Calcule o intervalo interquartil (IQR)\n",
        "IQR = Q3 - Q1\n",
        "\n",
        "# Defina os limites superior e inferior\n",
        "lower_bound = Q1 - 1.5 * IQR\n",
        "upper_bound = Q3 + 1.5 * IQR\n",
        "\n",
        "# Filtre os outliers\n",
        "df_no_outliers = df_normalizado[(df_normalizado >= lower_bound) & (df_normalizado <= upper_bound)].dropna()"
      ],
      "metadata": {
        "id": "7-VL7YuHwINd"
      },
      "execution_count": 8,
      "outputs": []
    },
    {
      "cell_type": "code",
      "source": [
        "len(df_no_outliers)"
      ],
      "metadata": {
        "colab": {
          "base_uri": "https://localhost:8080/"
        },
        "id": "mza94uy6wLWk",
        "outputId": "e8168ec7-0a59-4bc2-c789-5abee0c9e51e"
      },
      "execution_count": 9,
      "outputs": [
        {
          "output_type": "execute_result",
          "data": {
            "text/plain": [
              "552"
            ]
          },
          "metadata": {},
          "execution_count": 9
        }
      ]
    },
    {
      "cell_type": "code",
      "source": [
        "# Detectar outliers em cada coluna\n",
        "outliers_mask = ((df_normalizado < lower_bound) | (df_normalizado > upper_bound))\n",
        "\n",
        "# Verificar quais colunas têm pelo menos um outlier\n",
        "colunas_com_outliers = outliers_mask.any()\n",
        "\n",
        "# Agora, 'colunas_com_outliers' é uma série booleana indicando quais colunas têm outliers\n",
        "# Você pode imprimi-la para ver quais colunas têm outliers\n",
        "print(\"Colunas com outliers:\")\n",
        "print(colunas_com_outliers[colunas_com_outliers])\n",
        "\n",
        "# Se você quiser obter uma lista das colunas com outliers, você pode fazer assim:\n",
        "colunas_com_outliers_lista = colunas_com_outliers[colunas_com_outliers].index.tolist()\n",
        "print(\"Lista de colunas com outliers:\", colunas_com_outliers_lista)\n",
        "\n",
        "# Contar outliers em cada coluna\n",
        "outliers_por_coluna = outliers_mask.sum()\n",
        "\n",
        "# Imprimir o número de outliers em cada coluna\n",
        "print(\"Número de outliers em cada coluna:\")\n",
        "print(outliers_por_coluna)"
      ],
      "metadata": {
        "colab": {
          "base_uri": "https://localhost:8080/"
        },
        "id": "LZEUy0xcxzYN",
        "outputId": "a9a7dfbe-0921-46ad-e1d0-b60952ee3d0e"
      },
      "execution_count": 10,
      "outputs": [
        {
          "output_type": "stream",
          "name": "stdout",
          "text": [
            "Colunas com outliers:\n",
            "sex                    True\n",
            "chest pain type        True\n",
            "resting bp s           True\n",
            "cholesterol            True\n",
            "fasting blood sugar    True\n",
            "max heart rate         True\n",
            "oldpeak                True\n",
            "dtype: bool\n",
            "Lista de colunas com outliers: ['sex', 'chest pain type', 'resting bp s', 'cholesterol', 'fasting blood sugar', 'max heart rate', 'oldpeak']\n",
            "Número de outliers em cada coluna:\n",
            "age                      0\n",
            "sex                    281\n",
            "chest pain type         66\n",
            "resting bp s            53\n",
            "cholesterol            193\n",
            "fasting blood sugar    254\n",
            "resting ecg              0\n",
            "max heart rate           1\n",
            "exercise angina          0\n",
            "oldpeak                 11\n",
            "ST slope                 0\n",
            "target                   0\n",
            "dtype: int64\n"
          ]
        }
      ]
    },
    {
      "cell_type": "code",
      "source": [
        "# Colunas que quero tirar os outliers\n",
        "colunas_selecionadas = ['cholesterol', 'sex']\n",
        "\n",
        "# Filtre os outliers apenas nas colunas selecionadas\n",
        "df_no_outliers = df_normalizado.copy()  # Crie uma cópia do DataFrame original\n",
        "for coluna in colunas_selecionadas:\n",
        "    outliers_mask = ((df_normalizado[coluna] < lower_bound[coluna]) | (df_normalizado[coluna] > upper_bound[coluna]))\n",
        "    df_no_outliers[coluna] = df_normalizado[coluna][~outliers_mask]  # Remova os outliers e substitua pela entrada NaN"
      ],
      "metadata": {
        "id": "SOE8WJYw0E3v"
      },
      "execution_count": 11,
      "outputs": []
    },
    {
      "cell_type": "code",
      "source": [
        "df_no_outliers.isnull().sum()"
      ],
      "metadata": {
        "colab": {
          "base_uri": "https://localhost:8080/"
        },
        "id": "4bOb-lii1sfl",
        "outputId": "085f2864-0b71-4516-a161-652bc064aff6"
      },
      "execution_count": 12,
      "outputs": [
        {
          "output_type": "execute_result",
          "data": {
            "text/plain": [
              "age                      0\n",
              "sex                    281\n",
              "chest pain type          0\n",
              "resting bp s             0\n",
              "cholesterol            193\n",
              "fasting blood sugar      0\n",
              "resting ecg              0\n",
              "max heart rate           0\n",
              "exercise angina          0\n",
              "oldpeak                  0\n",
              "ST slope                 0\n",
              "target                   0\n",
              "dtype: int64"
            ]
          },
          "metadata": {},
          "execution_count": 12
        }
      ]
    },
    {
      "cell_type": "code",
      "source": [
        "df_no_outliers = df_no_outliers.dropna()"
      ],
      "metadata": {
        "id": "OC0p2Yps2zz7"
      },
      "execution_count": 13,
      "outputs": []
    },
    {
      "cell_type": "code",
      "source": [
        "len(df_no_outliers[coluna])"
      ],
      "metadata": {
        "colab": {
          "base_uri": "https://localhost:8080/"
        },
        "id": "BLWs_q3703dc",
        "outputId": "9e5447f1-13fd-4a93-e613-e23324129b55"
      },
      "execution_count": 14,
      "outputs": [
        {
          "output_type": "execute_result",
          "data": {
            "text/plain": [
              "740"
            ]
          },
          "metadata": {},
          "execution_count": 14
        }
      ]
    },
    {
      "cell_type": "markdown",
      "source": [
        "Pt-Br: \"Em casos como este, é importante considerar manter os outliers, pois podem desempenhar um papel significativo na identificação de doenças cardíacas.\"\n",
        "\n",
        "EN: \"In cases like this, it's important to consider keeping the outliers, as they may play a significant role in identifying cardiac diseases.\""
      ],
      "metadata": {
        "id": "zpjXqWRc3It4"
      }
    },
    {
      "cell_type": "markdown",
      "source": [
        "# Data manipulation"
      ],
      "metadata": {
        "id": "3eMaiQWbmDrx"
      }
    },
    {
      "cell_type": "markdown",
      "source": [
        "## Spliting"
      ],
      "metadata": {
        "id": "OBlzEnwvl_vR"
      }
    },
    {
      "cell_type": "code",
      "source": [
        "# Split the data into train and temp sets\n",
        "train_df, test_df = train_test_split(df,test_size=0.3,random_state=42)\n",
        "test_df, valid_df = train_test_split(test_df,test_size=0.5,random_state=42)"
      ],
      "metadata": {
        "id": "C1BSm76ZlaFQ"
      },
      "execution_count": 15,
      "outputs": []
    },
    {
      "cell_type": "code",
      "source": [
        "print(len(train_df)/len(df))\n",
        "print(len(test_df)/len(df))\n",
        "print(len(valid_df)/len(df))"
      ],
      "metadata": {
        "colab": {
          "base_uri": "https://localhost:8080/"
        },
        "id": "i6A5vkiklvRg",
        "outputId": "b890822c-e610-4dc1-f251-a3106fc03b14"
      },
      "execution_count": 16,
      "outputs": [
        {
          "output_type": "stream",
          "name": "stdout",
          "text": [
            "0.7\n",
            "0.1495798319327731\n",
            "0.15042016806722688\n"
          ]
        }
      ]
    },
    {
      "cell_type": "markdown",
      "source": [
        "## Separating features"
      ],
      "metadata": {
        "id": "g8a2oyzLmbqR"
      }
    },
    {
      "cell_type": "code",
      "source": [
        "target_column = 'target'\n",
        "\n",
        "#targeting Train data\n",
        "X_train = train_df.drop(columns=[target_column])\n",
        "Y_train = train_df[target_column]\n",
        "#targeting test data\n",
        "X_test = test_df.drop(columns=[target_column])\n",
        "Y_test = test_df[target_column]\n",
        "#targeting valid data\n",
        "X_valid = valid_df.drop(columns=[target_column])\n",
        "Y_valid = valid_df[target_column]"
      ],
      "metadata": {
        "id": "cfIqhZtJlmeK"
      },
      "execution_count": 17,
      "outputs": []
    },
    {
      "cell_type": "markdown",
      "source": [
        "# Applying model"
      ],
      "metadata": {
        "id": "R_-fybJlopeI"
      }
    },
    {
      "cell_type": "markdown",
      "source": [
        "### DecisionTreeClassifier 🌳  <!-- Tree icon -->"
      ],
      "metadata": {
        "id": "PO7N7VBeqRMw"
      }
    },
    {
      "cell_type": "code",
      "source": [
        "from sklearn.tree import DecisionTreeClassifier\n",
        "\n",
        "# Define the number of iterations\n",
        "num_iterations = 100\n",
        "\n",
        "best_accuracy = 0\n",
        "best_dtc = None\n",
        "\n",
        "for i in tqdm(range(num_iterations)):\n",
        "      # Initialize the Decision Tree classifier\n",
        "    dtc = DecisionTreeClassifier()\n",
        "\n",
        "    # Train the classifier on the training data\n",
        "    dtc.fit(X_train, Y_train)\n",
        "\n",
        "    # Make predictions on the testing data\n",
        "    y_pred = dtc.predict(X_test)\n",
        "\n",
        "    # Evaluate the classifier's performance\n",
        "    accuracy = accuracy_score(Y_test, y_pred)\n",
        "    #print(f\"Iteration {i+1}: Accuracy test - {accuracy}\")\n",
        "\n",
        "    # Update best accuracy and classifier if current accuracy is better\n",
        "    if accuracy > best_accuracy:\n",
        "        best_accuracy_dtc = accuracy\n",
        "        best_dtc = dtc\n",
        "\n",
        "print()\n",
        "print(\"Best accuracy dtc :\", best_accuracy_dtc)\n",
        "\n",
        "# Make predictions on the valid data\n",
        "y_pred = best_dtc.predict(X_valid)\n",
        "\n",
        "# Evaluate the classifier's performance\n",
        "accuracy_dtc = accuracy_score(Y_valid, y_pred)\n",
        "print(\"Accuracy valid dtc:\", accuracy_dtc)"
      ],
      "metadata": {
        "colab": {
          "base_uri": "https://localhost:8080/"
        },
        "id": "7RdP0iy9oUxU",
        "outputId": "4b02556b-ee5b-46ef-a8f0-f5157ff05d5b"
      },
      "execution_count": 18,
      "outputs": [
        {
          "output_type": "stream",
          "name": "stderr",
          "text": [
            "100%|██████████| 100/100 [00:01<00:00, 93.30it/s]"
          ]
        },
        {
          "output_type": "stream",
          "name": "stdout",
          "text": [
            "\n",
            "Best accuracy dtc : 0.898876404494382\n",
            "Accuracy valid dtc: 0.8324022346368715\n"
          ]
        },
        {
          "output_type": "stream",
          "name": "stderr",
          "text": [
            "\n"
          ]
        }
      ]
    },
    {
      "cell_type": "markdown",
      "source": [
        "### kNN"
      ],
      "metadata": {
        "id": "4fvMTcfvqVH3"
      }
    },
    {
      "cell_type": "code",
      "source": [
        "from sklearn.neighbors import KNeighborsClassifier\n",
        "\n",
        "# Define the number of iterations\n",
        "num_iterations = 100\n",
        "\n",
        "best_accuracy = 0\n",
        "best_knn = None\n",
        "\n",
        "for i in tqdm(range(num_iterations)):\n",
        "    # Initialize the KNN classifier\n",
        "    knn = KNeighborsClassifier(n_neighbors=8)\n",
        "\n",
        "    # Train the classifier on the training data\n",
        "    knn.fit(X_train, Y_train)\n",
        "\n",
        "    # Make predictions on the testing data\n",
        "    y_pred = knn.predict(X_test)\n",
        "\n",
        "    # Evaluate the classifier's performance\n",
        "    accuracy = accuracy_score(Y_test, y_pred)\n",
        "    #print(f\"Iteration {i+1}: Accuracy test - {accuracy}\")\n",
        "\n",
        "    # Update best accuracy and classifier if current accuracy is better\n",
        "    if accuracy > best_accuracy:\n",
        "        best_accuracy_knn = accuracy\n",
        "        best_knn = knn\n",
        "\n",
        "print()\n",
        "print(\"Best accuracy knn:\", best_accuracy_knn)\n",
        "\n",
        "# Make predictions on the valid data\n",
        "y_pred = best_knn.predict(X_valid)\n",
        "\n",
        "# Evaluate the classifier's performance\n",
        "accuracy_knn = accuracy_score(Y_valid, y_pred)\n",
        "print(\"Accuracy valid knn:\", accuracy_knn)"
      ],
      "metadata": {
        "colab": {
          "base_uri": "https://localhost:8080/"
        },
        "id": "AjU9VSZ-qLM3",
        "outputId": "77836d86-23d7-4660-88a1-2e9e04b4a8c3"
      },
      "execution_count": 19,
      "outputs": [
        {
          "output_type": "stream",
          "name": "stderr",
          "text": [
            "100%|██████████| 100/100 [00:04<00:00, 22.91it/s]"
          ]
        },
        {
          "output_type": "stream",
          "name": "stdout",
          "text": [
            "\n",
            "Best accuracy knn: 0.7696629213483146\n",
            "Accuracy valid knn: 0.6871508379888268\n"
          ]
        },
        {
          "output_type": "stream",
          "name": "stderr",
          "text": [
            "\n"
          ]
        }
      ]
    },
    {
      "cell_type": "markdown",
      "source": [
        "### Random Forest 🌲🌲🌲🌲🌲🌲\n",
        "\n"
      ],
      "metadata": {
        "id": "PeGRoAyOsGtP"
      }
    },
    {
      "cell_type": "code",
      "source": [
        "from sklearn.ensemble import RandomForestClassifier\n",
        "\n",
        "# Define the number of iterations\n",
        "num_iterations = 100\n",
        "\n",
        "best_accuracy = 0\n",
        "best_knn = None\n",
        "\n",
        "for i in tqdm(range(num_iterations)):\n",
        "    # Initialize the KNN classifier\n",
        "    RFC = RandomForestClassifier()\n",
        "\n",
        "    # Train the classifier on the training data\n",
        "    RFC.fit(X_train, Y_train)\n",
        "\n",
        "    # Make predictions on the testing data\n",
        "    y_pred = RFC.predict(X_test)\n",
        "\n",
        "    # Evaluate the classifier's performance\n",
        "    accuracy = accuracy_score(Y_test, y_pred)\n",
        "    #print(f\"Iteration {i+1}: Accuracy test - {accuracy}\")\n",
        "\n",
        "    # Update best accuracy and classifier if current accuracy is better\n",
        "    if accuracy > best_accuracy:\n",
        "        best_accuracy_RFC = accuracy\n",
        "        best_RFC = RFC\n",
        "\n",
        "print()\n",
        "print(\"Best accuracy RFC:\", best_accuracy_RFC)\n",
        "\n",
        "# Make predictions on the valid data\n",
        "y_pred = best_RFC.predict(X_valid)\n",
        "\n",
        "# Evaluate the classifier's performance\n",
        "accuracy_RFC = accuracy_score(Y_valid, y_pred)\n",
        "print(\"Accuracy valid RFC:\", accuracy_RFC)"
      ],
      "metadata": {
        "colab": {
          "base_uri": "https://localhost:8080/"
        },
        "id": "xD_YshHIsHLF",
        "outputId": "6f466b8b-08c2-45cd-aa06-aebd9bd5f5ed"
      },
      "execution_count": 20,
      "outputs": [
        {
          "output_type": "stream",
          "name": "stderr",
          "text": [
            "100%|██████████| 100/100 [00:37<00:00,  2.65it/s]"
          ]
        },
        {
          "output_type": "stream",
          "name": "stdout",
          "text": [
            "\n",
            "Best accuracy RFC: 0.9550561797752809\n",
            "Accuracy valid RFC: 0.9050279329608939\n"
          ]
        },
        {
          "output_type": "stream",
          "name": "stderr",
          "text": [
            "\n"
          ]
        }
      ]
    },
    {
      "cell_type": "markdown",
      "source": [
        "# Final Result"
      ],
      "metadata": {
        "id": "F1ipMbngyBs_"
      }
    },
    {
      "cell_type": "code",
      "source": [
        "print(\"Best accuracy DTC: \", best_accuracy_dtc)\n",
        "print(\"Best accuracy KNN: \", best_accuracy_knn)\n",
        "print(\"Best accuracy RFC: \", best_accuracy_RFC)"
      ],
      "metadata": {
        "colab": {
          "base_uri": "https://localhost:8080/"
        },
        "id": "EfGhd3GkyHGU",
        "outputId": "a8099cf9-aa19-4ec0-df53-f7cff8094e9c"
      },
      "execution_count": 21,
      "outputs": [
        {
          "output_type": "stream",
          "name": "stdout",
          "text": [
            "Best accuracy DTC:  0.898876404494382\n",
            "Best accuracy KNN:  0.7696629213483146\n",
            "Best accuracy RFC:  0.9550561797752809\n"
          ]
        }
      ]
    },
    {
      "cell_type": "code",
      "source": [
        "# Dicionário para mapear os nomes dos modelos para suas precisões\n",
        "modelos = {'Decision Tree Classifier': best_accuracy_dtc,\n",
        "           'K-Nearest Neighbors': best_accuracy_knn,\n",
        "           'Random Forest Classifier': best_accuracy_RFC}\n",
        "\n",
        "# Encontre o nome do modelo com a melhor precisão\n",
        "melhor_modelo = max(modelos, key=modelos.get)\n",
        "\n",
        "# Obtenha a precisão do melhor modelo\n",
        "melhor_precisao = modelos[melhor_modelo]\n",
        "\n",
        "# Imprima a mensagem\n",
        "print(\"O melhor modelo é\", melhor_modelo, \"com precisão: \", melhor_precisao)"
      ],
      "metadata": {
        "colab": {
          "base_uri": "https://localhost:8080/"
        },
        "id": "eH38IBUpykec",
        "outputId": "6dafa6f6-0765-4722-ea19-ce53c0b84734"
      },
      "execution_count": 22,
      "outputs": [
        {
          "output_type": "stream",
          "name": "stdout",
          "text": [
            "O melhor modelo é Random Forest Classifier com precisão:  0.9550561797752809\n"
          ]
        }
      ]
    },
    {
      "cell_type": "markdown",
      "source": [
        "# Extra Testing and implementation"
      ],
      "metadata": {
        "id": "IQjfBsYQYPZ8"
      }
    },
    {
      "cell_type": "code",
      "source": [
        "# Criar um novo DataFrame chamado df_paciente com as mesmas colunas do DataFrame existente\n",
        "df_paciente = pd.DataFrame(columns=df.columns)\n",
        "df_paciente = df_paciente.drop(columns=['target'])"
      ],
      "metadata": {
        "id": "YoaqbgwhQNR4"
      },
      "execution_count": 38,
      "outputs": []
    },
    {
      "cell_type": "code",
      "source": [
        "def analisarS2(best_RFC,df_paciente):\n",
        "    # Criar um DataFrame vazio com as colunas especificadas\n",
        "  df_paciente = pd.DataFrame(columns=[\n",
        "      'age', 'sex', 'chest pain type', 'resting bp s', 'cholesterol',\n",
        "      'fasting blood sugar', 'resting ecg', 'max heart rate', 'exercise angina',\n",
        "      'oldpeak', 'ST slope'\n",
        "  ])\n",
        "\n",
        "  # Pedir ao usuário para inserir os valores para cada coluna\n",
        "  for coluna in df_paciente.columns:\n",
        "      valor = input(\"Insira o valor para a coluna '\" + coluna + \"': \")\n",
        "      df_paciente[coluna] = valor\n",
        "\n",
        "  # Adicionar os valores ao DataFrame df_paciente\n",
        "  df_paciente.loc[len(df_paciente)] = valores\n",
        "\n",
        "  # Mostrar o DataFrame df_paciente\n",
        "  print(\"Ficha do paciente está atualizado:\")\n",
        "\n",
        "  y_paciente = best_RFC.predict(df_paciente)\n",
        "\n",
        "  if y_paciente == 0:\n",
        "    print('ele ta bem.')\n",
        "  elif y_paciente == 1:\n",
        "    print('corre que ta morrendo!')\n",
        "  else:\n",
        "    print('ta errado isso ai!')"
      ],
      "metadata": {
        "id": "sdNZK2lDOInd"
      },
      "execution_count": 60,
      "outputs": []
    },
    {
      "cell_type": "code",
      "source": [
        "analisarS2(best_RFC,df_paciente)"
      ],
      "metadata": {
        "id": "ho5Z_fz9PHGF"
      },
      "execution_count": null,
      "outputs": []
    }
  ]
}