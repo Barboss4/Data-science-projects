{
  "nbformat": 4,
  "nbformat_minor": 0,
  "metadata": {
    "colab": {
      "provenance": [],
      "collapsed_sections": [
        "Bx_svkQBoHU3",
        "5YgvEPWboSHM",
        "wHhGzqFSGaZa",
        "K2GJPdz5_fGC"
      ]
    },
    "kernelspec": {
      "name": "python3",
      "display_name": "Python 3"
    },
    "language_info": {
      "name": "python"
    }
  },
  "cells": [
    {
      "cell_type": "markdown",
      "source": [
        "# Loading dataset and libraries"
      ],
      "metadata": {
        "id": "Bx_svkQBoHU3"
      }
    },
    {
      "cell_type": "code",
      "execution_count": 1,
      "metadata": {
        "id": "PWo4QJGqn2Op"
      },
      "outputs": [],
      "source": [
        "#Referencia\n",
        "# https://www.kaggle.com/datasets/amirmotefaker/ab-testing-dataset"
      ]
    },
    {
      "cell_type": "code",
      "source": [
        "import pandas as pd\n",
        "import numpy as np\n",
        "import statsmodels.api as sm # Chi²\n",
        "from scipy.stats import ttest_ind # Test T"
      ],
      "metadata": {
        "id": "U5cw2NONn9Z2"
      },
      "execution_count": 2,
      "outputs": []
    },
    {
      "cell_type": "code",
      "source": [
        "Control = pd.read_csv('/content/control_group.csv',delimiter = ';')\n",
        "Variant = pd.read_csv('/content/test_group.csv',delimiter = ';')"
      ],
      "metadata": {
        "id": "qU3cbOOvoh3F"
      },
      "execution_count": 3,
      "outputs": []
    },
    {
      "cell_type": "code",
      "source": [
        "columns = {\n",
        "    \"Campaign Name\": \"Campaign\",\n",
        "    \"Date\": \"Date\",\n",
        "    \"Spend [USD]\": \"Spent\",\n",
        "    \"# of Impressions\": \"Impressions\",\n",
        "    \"Reach\": \"Reach\",\n",
        "    \"# of Website Clicks\": \"Clicks\",\n",
        "    \"# of Searches\": \"Searches\",\n",
        "    \"# of View Content\": \"Views\",\n",
        "    \"# of Add to Cart\": \"Cartadd\",\n",
        "    \"# of Purchase\": \"Purchases\"\n",
        "}\n",
        "\n",
        "# Renomeando as colunas do control_data\n",
        "Control.rename(columns=columns, inplace=True)\n",
        "\n",
        "# Renomeando as colunas do test_data\n",
        "Variant.rename(columns=columns, inplace=True)\n"
      ],
      "metadata": {
        "id": "juGScmSerz-3"
      },
      "execution_count": 4,
      "outputs": []
    },
    {
      "cell_type": "markdown",
      "source": [
        "# About the dataSet"
      ],
      "metadata": {
        "id": "5YgvEPWboSHM"
      }
    },
    {
      "cell_type": "markdown",
      "source": [
        "## English (EN)"
      ],
      "metadata": {
        "id": "iWMWwpItGO8h"
      }
    },
    {
      "cell_type": "markdown",
      "source": [
        "| Feature Name    | Description                                            |\n",
        "|-----------------|--------------------------------------------------------|\n",
        "| Campaign Name   | The name of the campaign                               |\n",
        "| Date            | Date of the record                                      |\n",
        "| Spent           | Amount spent on the campaign in dollars (How much you earn)                 |\n",
        "| Impressions     | Number of impressions the ad crossed through the campaign |\n",
        "| Reach           | The number of unique impressions received in the ad    |\n",
        "| Clicks          | Number of website clicks received through the ads      |\n",
        "| Searches        | Number of users who performed searches on the website  |\n",
        "| Views           | Number of users who viewed content and products on the website |\n",
        "| Cartadd         | Number of users who added products to the cart         |\n",
        "| Purchases       | Number of purchases                                    |\n",
        "| ARPPU     | average revenue per paying user ( Spent /    Purchases)                             |\n",
        "| ARPOL      | Average Revenue Per Organic Lead ( Spent /    Impressions)            |\n",
        "\n",
        "\n"
      ],
      "metadata": {
        "id": "K0o-07gWqTuM"
      }
    },
    {
      "cell_type": "markdown",
      "source": [
        "## Portugues (PT-BR)"
      ],
      "metadata": {
        "id": "WmDCdIPNGTvk"
      }
    },
    {
      "cell_type": "markdown",
      "source": [
        "| Nome da Característica | Descrição                                            |\n",
        "|------------------------|-----------------------------------------------------|\n",
        "| Nome da Campanha       | O nome da campanha                                  |\n",
        "| Data                   | Data do registro                                     |\n",
        "| Gasto                  | Quantia gasta na campanha em dólares (Quanto você ganha)            |\n",
        "| Impressões             | Número de impressões que o anúncio teve durante a campanha |\n",
        "| Alcance                | O número de impressões únicas recebidas no anúncio  |\n",
        "| Cliques                | Número de cliques no site recebidos através dos anúncios |\n",
        "| Pesquisas              | Número de usuários que realizaram pesquisas no site |\n",
        "| Visualizações          | Número de usuários que visualizaram conteúdo e produtos no site |\n",
        "| Adicionados ao Carrinho| Número de usuários que adicionaram produtos ao carrinho |\n",
        "| Compras                | Número de compras                                   |\n",
        "| ARPPU                  | Receita média por usuário pagante (Gasto / Compras) |\n",
        "| ARPOL                  | Receita média por lead orgânico (Gasto / Impressões) |"
      ],
      "metadata": {
        "id": "QEyNDeneFl-l"
      }
    },
    {
      "cell_type": "markdown",
      "source": [
        "# Data preprocessing"
      ],
      "metadata": {
        "id": "wHhGzqFSGaZa"
      }
    },
    {
      "cell_type": "code",
      "source": [
        "Control = Control.dropna()\n",
        "Variant = Variant.dropna()"
      ],
      "metadata": {
        "id": "svpMJGe8u5hh"
      },
      "execution_count": 5,
      "outputs": []
    },
    {
      "cell_type": "code",
      "source": [
        "# Calcular ARPPU e ARPOL para o DataFrame Control\n",
        "Control.loc[:, 'Arppu'] = Control['Spent'] / Control['Purchases']\n",
        "Control.loc[:, 'Arpol'] = Control['Spent'] / Control['Impressions']\n",
        "\n",
        "# Calcular ARPPU e ARPOL para o DataFrame Variant\n",
        "Variant.loc[:, 'Arppu'] = Variant['Spent'] / Variant['Purchases']\n",
        "Variant.loc[:, 'Arpol'] = Variant['Spent'] / Variant['Impressions']\n"
      ],
      "metadata": {
        "id": "nz-jjs61vGYm"
      },
      "execution_count": 6,
      "outputs": []
    },
    {
      "cell_type": "code",
      "source": [
        "Control.describe()"
      ],
      "metadata": {
        "id": "SQjLXsSVpDZT"
      },
      "execution_count": null,
      "outputs": []
    },
    {
      "cell_type": "code",
      "source": [
        "Variant.describe()"
      ],
      "metadata": {
        "id": "erSvxQcop0-1"
      },
      "execution_count": null,
      "outputs": []
    },
    {
      "cell_type": "code",
      "source": [
        "Control.head(), Variant.head()"
      ],
      "metadata": {
        "id": "GSYszmWltwaR"
      },
      "execution_count": null,
      "outputs": []
    },
    {
      "cell_type": "markdown",
      "source": [
        "# Teste estatistico"
      ],
      "metadata": {
        "id": "K2GJPdz5_fGC"
      }
    },
    {
      "cell_type": "markdown",
      "source": [
        "## Teste Chi²"
      ],
      "metadata": {
        "id": "t38v0UxY_m2b"
      }
    },
    {
      "cell_type": "code",
      "source": [
        "def Chi_quadrado(conv_a,obs_a,conv_b,obs_b):\n",
        "  # Taxa de conversão para o Grupo A\n",
        "  rate_a = conv_a / obs_a\n",
        "\n",
        "  # Taxa de conversão para o Grupo B\n",
        "  rate_b = conv_b / obs_b\n",
        "\n",
        "  # Teste Z para duas proporções\n",
        "  z_score, p_value = sm.stats.proportions_ztest([conv_a, conv_b], [obs_a, obs_b])\n",
        "\n",
        "  # Intervalo de confiança para a diferença de proporções\n",
        "  ci_low, ci_upp = sm.stats.proportion_confint([conv_a, conv_b], [obs_a, obs_b])\n",
        "\n",
        "  print(\"Há relevancia?\", p_value < 0.05)\n",
        "  print(\"Taxa de conversão do Grupo A: {:.2f}%\".format(rate_a))\n",
        "  print(\"Taxa de conversão do Grupo B: {:.2f}%\".format(rate_b))\n",
        "  print(\"Teste Z score:\", z_score)\n",
        "  print(\"Valor p:\", p_value)\n",
        "  print(\"Intervalo de confiança para a diferença de proporções:\", ci_low, ci_upp)\n",
        "  if rate_a > rate_b:\n",
        "    print(\"O Grupo A tem uma taxa de conversão maior.\")\n",
        "    print(\"A diferença percentual na taxa de conversão entre os grupos é de: {:.2f}%\".format((rate_a - rate_b) * 100))\n",
        "    print(\"A razão na taxa de conversão entre os grupos é de: {:.2f}%\".format((rate_a / rate_b)))\n",
        "\n",
        "\n",
        "  elif rate_b > rate_a:\n",
        "    print(\"O Grupo B tem uma taxa de conversão maior.\")\n",
        "    print(\"A diferença percentual na taxa de conversão entre os grupos é de: {:.2f}%\".format((rate_b - rate_a) * 100))\n",
        "    print(\"A razão na taxa de conversão entre os grupos é de: {:.2f}%\".format((rate_b / rate_a)))\n",
        "\n",
        "  else:\n",
        "    print(\"As taxas de conversão dos dois grupos são iguais.\")"
      ],
      "metadata": {
        "id": "ZT4cs-xz3VEa"
      },
      "execution_count": 22,
      "outputs": []
    },
    {
      "cell_type": "code",
      "source": [
        "# Número de observações e conversões para o Grupo A e B\n",
        "obs_a = Control['Impressions'].sum()\n",
        "obs_b = Variant['Impressions'].sum()\n",
        "conv_a = Control['Reach'].sum()\n",
        "conv_b = Variant['Reach'].sum()\n",
        "\n",
        "Chi_quadrado(conv_a,obs_a,conv_b,obs_b)"
      ],
      "metadata": {
        "colab": {
          "base_uri": "https://localhost:8080/"
        },
        "id": "-D67mAcR3g0g",
        "outputId": "6699e0c5-9710-4e8e-e726-f552d1a1a9b0"
      },
      "execution_count": 23,
      "outputs": [
        {
          "output_type": "stream",
          "name": "stdout",
          "text": [
            "Há relevancia? True\n",
            "Taxa de conversão do Grupo A: 0.81%\n",
            "Taxa de conversão do Grupo B: 0.72%\n",
            "Teste Z score: 256.080750326453\n",
            "Valor p: 0.0\n",
            "Intervalo de confiança para a diferença de proporções: [0.81049612 0.71660116] [0.81135723 0.71778136]\n",
            "O Grupo A tem uma taxa de conversão maior.\n",
            "A diferença percentual na taxa de conversão entre os grupos é de: 9.37%\n",
            "A razão na taxa de conversão entre os grupos é de: 1.13%\n"
          ]
        }
      ]
    },
    {
      "cell_type": "code",
      "source": [
        "# Número de observações e conversões para o Grupo A e B\n",
        "obs_a = Control['Impressions'].sum()\n",
        "obs_b = Variant['Impressions'].sum()\n",
        "conv_a = Control['Purchases'].sum()\n",
        "conv_b = Variant['Purchases'].sum()\n",
        "\n",
        "Chi_quadrado(conv_a,obs_a,conv_b,obs_b)"
      ],
      "metadata": {
        "colab": {
          "base_uri": "https://localhost:8080/"
        },
        "id": "TMSAmbU98qOf",
        "outputId": "64f1d87f-8dbf-490b-cc30-de413cbd854c"
      },
      "execution_count": 24,
      "outputs": [
        {
          "output_type": "stream",
          "name": "stdout",
          "text": [
            "Há relevancia? True\n",
            "Taxa de conversão do Grupo A: 0.00%\n",
            "Taxa de conversão do Grupo B: 0.01%\n",
            "Teste Z score: -33.77499922226043\n",
            "Valor p: 4.59330633997262e-250\n",
            "Intervalo de confiança para a diferença de proporções: [0.00469599 0.00687931] [0.00484754 0.00709762]\n",
            "O Grupo B tem uma taxa de conversão maior.\n",
            "A diferença percentual na taxa de conversão entre os grupos é de: 0.22%\n",
            "A razão na taxa de conversão entre os grupos é de: 1.46%\n"
          ]
        }
      ]
    },
    {
      "cell_type": "markdown",
      "source": [
        "## Teste T"
      ],
      "metadata": {
        "id": "XYhhd1k-_tTj"
      }
    },
    {
      "cell_type": "code",
      "source": [
        "def Test_t(grupo_a,grupo_b):\n",
        "\n",
        "  meana = grupo_a.mean()\n",
        "  meanb = grupo_b.mean()\n",
        "\n",
        "  # Executar o teste t de Student\n",
        "  t_statistic, p_value = ttest_ind(grupo_a, grupo_b)\n",
        "\n",
        "  # Imprimir os resultados\n",
        "  print(\"Estatística t:\", t_statistic)\n",
        "  print(\"Valor p:\", p_value)\n",
        "  print(\"Média grupo A: {:.2f}\".format(meana) )\n",
        "  print(\"Média grupo A: {:.2f}\".format(meanb) )\n",
        "  print(\"Razão Grupos: {:.2f}%\".format(meana / meanb - 1))\n",
        "\n",
        "  # Interpretar os resultados\n",
        "  if p_value < 0.05:\n",
        "      print(\"Há uma diferença estatisticamente significativa entre as médias dos dois grupos.\")\n",
        "  else:\n",
        "      print(\"Não há uma diferença estatisticamente significativa entre as médias dos dois grupos.\")"
      ],
      "metadata": {
        "id": "ah8E9c7u_zLO"
      },
      "execution_count": 27,
      "outputs": []
    },
    {
      "cell_type": "code",
      "source": [
        "grupo_a = Control['Arppu']\n",
        "grupo_b = Variant['Arppu']\n",
        "\n",
        "Test_t(grupo_a,grupo_b)"
      ],
      "metadata": {
        "colab": {
          "base_uri": "https://localhost:8080/"
        },
        "id": "G0_XulhnAqdr",
        "outputId": "96987111-5f9e-47f4-dbe1-c9d507461e23"
      },
      "execution_count": 28,
      "outputs": [
        {
          "output_type": "stream",
          "name": "stdout",
          "text": [
            "Estatística t: -1.307409392473657\n",
            "Valor p: 0.19632297368244128\n",
            "Média grupo A: 5.05\n",
            "Média grupo A: 5.90\n",
            "Razão Grupos: -0.14%\n",
            "Não há uma diferença estatisticamente significativa entre as médias dos dois grupos.\n"
          ]
        }
      ]
    },
    {
      "cell_type": "code",
      "source": [
        "grupo_a = Control['Arpol']\n",
        "grupo_b = Variant['Arpol']\n",
        "\n",
        "Test_t(grupo_a,grupo_b)"
      ],
      "metadata": {
        "colab": {
          "base_uri": "https://localhost:8080/"
        },
        "id": "64JLy2n-A0tj",
        "outputId": "b2498a15-4b11-4660-b4de-9c2f2fe61c10"
      },
      "execution_count": 29,
      "outputs": [
        {
          "output_type": "stream",
          "name": "stdout",
          "text": [
            "Estatística t: -4.663148680025627\n",
            "Valor p: 1.9233082583529276e-05\n",
            "Média grupo A: 0.02\n",
            "Média grupo A: 0.04\n",
            "Razão Grupos: -0.49%\n",
            "Há uma diferença estatisticamente significativa entre as médias dos dois grupos.\n"
          ]
        }
      ]
    }
  ]
}